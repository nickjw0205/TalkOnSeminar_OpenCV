{
 "cells": [
  {
   "cell_type": "code",
   "execution_count": 1,
   "metadata": {},
   "outputs": [],
   "source": [
    "import sys\n",
    "import numpy as np\n",
    "import cv2\n",
    "import pytesseract"
   ]
  },
  {
   "cell_type": "code",
   "execution_count": 2,
   "metadata": {},
   "outputs": [],
   "source": [
    "# pytesseract.pytesseract.tesseract_cmd = r'C:\\Program Files\\Tesseract-OCR\\tesseract.exe'"
   ]
  },
  {
   "cell_type": "code",
   "execution_count": 3,
   "metadata": {},
   "outputs": [],
   "source": [
    "def reorderPts(pts):\n",
    "    idx = np.lexsort((pts[:, 1], pts[:, 0]))  # 칼럼0 -> 칼럼1 순으로 정렬한 인덱스를 반환\n",
    "    pts = pts[idx]  # x좌표로 정렬\n",
    "\n",
    "    if pts[0, 1] > pts[1, 1]:\n",
    "        pts[[0, 1]] = pts[[1, 0]]\n",
    "\n",
    "    if pts[2, 1] < pts[3, 1]:\n",
    "        pts[[2, 3]] = pts[[3, 2]]\n",
    "\n",
    "    return pts"
   ]
  },
  {
   "cell_type": "code",
   "execution_count": 9,
   "metadata": {},
   "outputs": [],
   "source": [
    "# 영상 불러오기\n",
    "# filename = 'namecard1.jpg'\n",
    "# if len(sys.argv) > 1:\n",
    "#     filename = sys.argv[1]\n",
    "\n",
    "src = cv2.imread('namecard3.jpg')\n",
    "# src = cv2.resize(src, (640, 480))\n",
    "if src is None:\n",
    "    print('Image load failed!')\n",
    "    sys.exit()"
   ]
  },
  {
   "cell_type": "code",
   "execution_count": 10,
   "metadata": {},
   "outputs": [],
   "source": [
    "# 출력 영상 설정\n",
    "dw, dh = 720, 400\n",
    "srcQuad = np.array([[0, 0], [0, 0], [0, 0], [0, 0]], np.float32)\n",
    "dstQuad = np.array([[0, 0], [0, dh], [dw, dh], [dw, 0]], np.float32)\n",
    "dst = np.zeros((dh, dw), np.uint8)\n",
    "\n",
    "# 입력 영상 전처리\n",
    "src_gray = cv2.cvtColor(src, cv2.COLOR_BGR2GRAY)\n",
    "th, src_bin = cv2.threshold(src_gray, 0, 255, cv2.THRESH_BINARY | cv2.THRESH_OTSU)\n"
   ]
  },
  {
   "cell_type": "code",
   "execution_count": 11,
   "metadata": {},
   "outputs": [
    {
     "name": "stdout",
     "output_type": "stream",
     "text": [
      " \n",
      "\n",
      " \n",
      "\n",
      "황 선 규 (Sunkyoo Hwang)\n",
      "\n",
      "17 전문서 저자 / 17 강사 / 공 학 박사\n",
      "\n",
      "#OpenCV #Computer Vision\n",
      "#Deep Learning #Algorithm\n",
      "\n",
      "sunkyoo.hwang@gmail.com\n",
      "https://sunkyoo.github.io/\n",
      "\n",
      " \n",
      "\f",
      "\n"
     ]
    }
   ],
   "source": [
    "# 외곽선 검출 및 명함 검출\n",
    "contours, _ = cv2.findContours(src_bin, cv2.RETR_EXTERNAL, cv2.CHAIN_APPROX_NONE)\n",
    "\n",
    "for pts in contours:\n",
    "    # 너무 작은 객체는 제외\n",
    "    if cv2.contourArea(pts) < 10:\n",
    "        continue\n",
    "\n",
    "    # 외곽선 근사화\n",
    "    approx = cv2.approxPolyDP(pts, cv2.arcLength(pts, True)*0.02, True)\n",
    "\n",
    "    # 컨벡스가 아니면 제외\n",
    "    if not cv2.isContourConvex(approx) or len(approx) != 4:\n",
    "        continue\n",
    "\n",
    "    cv2.polylines(src, [approx], True, (0, 255, 0), 2, cv2.LINE_AA)\n",
    "    srcQuad = reorderPts(approx.reshape(4, 2).astype(np.float32))\n",
    "\n",
    "    pers = cv2.getPerspectiveTransform(srcQuad, dstQuad)\n",
    "    # cv2.INTER_CUBIC => 화질을 좀 더 좋게..\n",
    "    dst = cv2.warpPerspective(src, pers, (dw, dh), flags=cv2.INTER_CUBIC)\n",
    "\n",
    "    dst_rgb = cv2.cvtColor(dst, cv2.COLOR_BGR2RGB)\n",
    "    print(pytesseract.image_to_string(dst_rgb, lang='Hangul+eng'))"
   ]
  },
  {
   "cell_type": "code",
   "execution_count": 12,
   "metadata": {},
   "outputs": [],
   "source": [
    "cv2.imshow('src', src)\n",
    "cv2.imshow('src_gray', src_gray)\n",
    "cv2.imshow('src_bin', src_bin)\n",
    "cv2.imshow('dst', dst)\n",
    "cv2.waitKey()\n",
    "cv2.destroyAllWindows()"
   ]
  },
  {
   "cell_type": "code",
   "execution_count": null,
   "metadata": {},
   "outputs": [],
   "source": []
  }
 ],
 "metadata": {
  "kernelspec": {
   "display_name": "tensorflow_py37",
   "language": "python",
   "name": "tensorflow_py37"
  },
  "language_info": {
   "codemirror_mode": {
    "name": "ipython",
    "version": 3
   },
   "file_extension": ".py",
   "mimetype": "text/x-python",
   "name": "python",
   "nbconvert_exporter": "python",
   "pygments_lexer": "ipython3",
   "version": "3.7.9"
  }
 },
 "nbformat": 4,
 "nbformat_minor": 4
}
