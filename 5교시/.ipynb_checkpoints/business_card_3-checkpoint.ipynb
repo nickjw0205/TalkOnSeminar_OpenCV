{
 "cells": [
  {
   "cell_type": "code",
   "execution_count": 1,
   "metadata": {},
   "outputs": [
    {
     "data": {
      "text/plain": [
       "'\\n레이블링이 더 빠르다\\n\\n'"
      ]
     },
     "execution_count": 1,
     "metadata": {},
     "output_type": "execute_result"
    }
   ],
   "source": [
    "\"\"\"\n",
    "레이블링이 더 빠르다.\n",
    "\n",
    "사각형을 찾으면 되니 외각선 검출을 사용할거임!\n",
    "\n",
    "method는 위에 2개를 많이 쓰는데 그냥 NONE을 쓰는게 무난\n",
    "다만 mode는 좀 고민을 해야함.\n",
    "=> 계층을 같이 할거임???와 같은거 ㅇㅇ\n",
    "\n",
    "명함의 네모를 구하기 위해 면적을 구할거임\n",
    "외곽산 근사화 => 삼각형, 사각형 등을 찾을때 유용함\n",
    "\"\"\""
   ]
  },
  {
   "cell_type": "code",
   "execution_count": 60,
   "metadata": {},
   "outputs": [],
   "source": [
    "import sys\n",
    "import cv2\n",
    "import numpy as np\n",
    "\n",
    "src = cv2.imread('namecard1.jpg')\n",
    "\n",
    "if src is None:\n",
    "    print('image load failed')\n",
    "    sys.exit()\n",
    "\n",
    "# src = cv2.resize(src, (640, 480))\n",
    "#src = cv2.resize(src, (0, 0), fx=0.5, fy=0.5)\n",
    "\n",
    "# 흑백흑백\n",
    "src_gray = cv2.cvtColor(src, cv2.COLOR_BGR2GRAY)\n",
    "\n",
    "# 이진화 => 임계값 함수 => otsu를 쓰니 알아서 하라고 0을 줌.\n",
    "_, src_bin = cv2.threshold(src_gray, 0, 255, cv2.THRESH_BINARY | cv2.THRESH_OTSU)"
   ]
  },
  {
   "cell_type": "code",
   "execution_count": 61,
   "metadata": {
    "scrolled": false
   },
   "outputs": [
    {
     "name": "stdout",
     "output_type": "stream",
     "text": [
      "111\n"
     ]
    }
   ],
   "source": [
    "contours, _ = cv2.findContours(src_bin, cv2.RETR_EXTERNAL, cv2.CHAIN_APPROX_NONE)\n",
    "\n",
    "print(len(contours))\n",
    "\n",
    "for pts in contours:\n",
    "    if cv2.contourArea(pts) < 1000:\n",
    "        continue\n",
    "        \n",
    "    approx = cv2.approxPolyDP(pts, cv2.arcLength(pts, True)*0.02, True)\n",
    "    \n",
    "    if len(approx) != 4:\n",
    "        continue\n",
    "    \n",
    "    w, h = 900, 500\n",
    "    srcQuad = np.array([[approx[0, 0, :]], [approx[1, 0, :]], \\\n",
    "                        [approx[2, 0, :]], [approx[3, 0, :]]]).astype(np.float32)\n",
    "    dstQuad = np.array([[0, 0], [0, h], [w, h], [w, 0]]).astype(np.float32)\n",
    "    \n",
    "    pers = cv2.getPerspectiveTransform(srcQuad, dstQuad)\n",
    "    dst = cv2.warpPerspective(src, pers, (w, h)) \n",
    "    \n",
    "    cv2.polylines(src, pts, True, (0, 0, 255))"
   ]
  },
  {
   "cell_type": "code",
   "execution_count": null,
   "metadata": {},
   "outputs": [],
   "source": [
    "# cv2.imshow('src',src)\n",
    "# cv2.imshow('src_gray',src_gray)\n",
    "# cv2.imshow('src_bin',src_bin)\n",
    "cv2.imshow('dst', dst)\n",
    "cv2.waitKey()\n",
    "cv2.destroyAllWindows()"
   ]
  },
  {
   "cell_type": "code",
   "execution_count": null,
   "metadata": {},
   "outputs": [],
   "source": []
  }
 ],
 "metadata": {
  "kernelspec": {
   "display_name": "tensorflow_py37",
   "language": "python",
   "name": "tensorflow_py37"
  },
  "language_info": {
   "codemirror_mode": {
    "name": "ipython",
    "version": 3
   },
   "file_extension": ".py",
   "mimetype": "text/x-python",
   "name": "python",
   "nbconvert_exporter": "python",
   "pygments_lexer": "ipython3",
   "version": "3.7.9"
  }
 },
 "nbformat": 4,
 "nbformat_minor": 4
}
