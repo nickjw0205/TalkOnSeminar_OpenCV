{
 "cells": [
  {
   "cell_type": "markdown",
   "metadata": {},
   "source": [
    "### namecard1"
   ]
  },
  {
   "cell_type": "code",
   "execution_count": 27,
   "metadata": {},
   "outputs": [],
   "source": [
    "import sys\n",
    "import cv2\n",
    "\n",
    "src = cv2.imread('namecard1.jpg')\n",
    "\n",
    "if src is None:\n",
    "    print('image load failed')\n",
    "    sys.exit()\n",
    "\n",
    "src = cv2.resize(src, (640, 480))\n",
    "#src = cv2.resize(src, (0, 0), fx=0.5, fy=0.5)\n",
    "\n",
    "# 흑백흑백\n",
    "src_gray = cv2.cvtColor(src, cv2.COLOR_BGR2GRAY)\n",
    "\n",
    "# 이진화 => 임계값 함수\n",
    "_, src_bin = cv2.threshold(src_gray, 130, 255, cv2.THRESH_BINARY)"
   ]
  },
  {
   "cell_type": "code",
   "execution_count": 28,
   "metadata": {},
   "outputs": [],
   "source": [
    "cv2.imshow('src',src)\n",
    "cv2.imshow('src_gray',src_gray)\n",
    "cv2.imshow('src_bin',src_bin)\n",
    "cv2.waitKey()\n",
    "cv2.destroyAllWindows()"
   ]
  },
  {
   "cell_type": "markdown",
   "metadata": {},
   "source": [
    "### namecard2"
   ]
  },
  {
   "cell_type": "code",
   "execution_count": 29,
   "metadata": {},
   "outputs": [],
   "source": [
    "import sys\n",
    "import cv2\n",
    "\n",
    "src = cv2.imread('namecard2.jpg')\n",
    "\n",
    "if src is None:\n",
    "    print('image load failed')\n",
    "    sys.exit()\n",
    "\n",
    "src = cv2.resize(src, (640, 480))\n",
    "#src = cv2.resize(src, (0, 0), fx=0.5, fy=0.5)\n",
    "\n",
    "# 흑백흑백\n",
    "src_gray = cv2.cvtColor(src, cv2.COLOR_BGR2GRAY)\n",
    "\n",
    "# 이진화 => 임계값 함수\n",
    "_, src_bin = cv2.threshold(src_gray, 130, 255, cv2.THRESH_BINARY)"
   ]
  },
  {
   "cell_type": "code",
   "execution_count": 30,
   "metadata": {},
   "outputs": [],
   "source": [
    "cv2.imshow('src',src)\n",
    "cv2.imshow('src_gray',src_gray)\n",
    "cv2.imshow('src_bin',src_bin)\n",
    "cv2.waitKey()\n",
    "cv2.destroyAllWindows()"
   ]
  },
  {
   "cell_type": "markdown",
   "metadata": {},
   "source": [
    "### otsu"
   ]
  },
  {
   "cell_type": "code",
   "execution_count": 32,
   "metadata": {},
   "outputs": [],
   "source": [
    "import sys\n",
    "import cv2\n",
    "\n",
    "src = cv2.imread('namecard2.jpg')\n",
    "\n",
    "if src is None:\n",
    "    print('image load failed')\n",
    "    sys.exit()\n",
    "\n",
    "src = cv2.resize(src, (640, 480))\n",
    "#src = cv2.resize(src, (0, 0), fx=0.5, fy=0.5)\n",
    "\n",
    "# 흑백흑백\n",
    "src_gray = cv2.cvtColor(src, cv2.COLOR_BGR2GRAY)\n",
    "\n",
    "# 이진화 => 임계값 함수 => otsu를 쓰니 알아서 하라고 0을 줌.\n",
    "_, src_bin = cv2.threshold(src_gray, 0, 255, cv2.THRESH_BINARY | cv2.THRESH_OTSU)"
   ]
  },
  {
   "cell_type": "code",
   "execution_count": 33,
   "metadata": {},
   "outputs": [],
   "source": [
    "cv2.imshow('src',src)\n",
    "cv2.imshow('src_gray',src_gray)\n",
    "cv2.imshow('src_bin',src_bin)\n",
    "cv2.waitKey()\n",
    "cv2.destroyAllWindows()"
   ]
  },
  {
   "cell_type": "markdown",
   "metadata": {},
   "source": [
    "### namecard3"
   ]
  },
  {
   "cell_type": "code",
   "execution_count": 35,
   "metadata": {},
   "outputs": [],
   "source": [
    "import sys\n",
    "import cv2\n",
    "\n",
    "src = cv2.imread('namecard3.jpg')\n",
    "\n",
    "if src is None:\n",
    "    print('image load failed')\n",
    "    sys.exit()\n",
    "\n",
    "src = cv2.resize(src, (640, 480))\n",
    "#src = cv2.resize(src, (0, 0), fx=0.5, fy=0.5)\n",
    "\n",
    "# 흑백흑백\n",
    "src_gray = cv2.cvtColor(src, cv2.COLOR_BGR2GRAY)\n",
    "\n",
    "# 이진화 => 임계값 함수 => otsu를 쓰니 알아서 하라고 0을 줌.\n",
    "_, src_bin = cv2.threshold(src_gray, 0, 255, cv2.THRESH_BINARY | cv2.THRESH_OTSU)"
   ]
  },
  {
   "cell_type": "code",
   "execution_count": null,
   "metadata": {},
   "outputs": [],
   "source": [
    "cv2.imshow('src',src)\n",
    "cv2.imshow('src_gray',src_gray)\n",
    "cv2.imshow('src_bin',src_bin)\n",
    "cv2.waitKey()\n",
    "cv2.destroyAllWindows()"
   ]
  },
  {
   "cell_type": "markdown",
   "metadata": {},
   "source": [
    "### Otsu가 정해준 값에서 조금 빼서 써도됨."
   ]
  },
  {
   "cell_type": "code",
   "execution_count": 23,
   "metadata": {},
   "outputs": [
    {
     "name": "stdout",
     "output_type": "stream",
     "text": [
      "118.0\n"
     ]
    }
   ],
   "source": [
    "import sys\n",
    "import cv2\n",
    "\n",
    "src = cv2.imread('namecard3.jpg')\n",
    "\n",
    "if src is None:\n",
    "    print('image load failed')\n",
    "    sys.exit()\n",
    "\n",
    "src = cv2.resize(src, (640, 480))\n",
    "#src = cv2.resize(src, (0, 0), fx=0.5, fy=0.5)\n",
    "\n",
    "# 흑백흑백\n",
    "src_gray = cv2.cvtColor(src, cv2.COLOR_BGR2GRAY)\n",
    "\n",
    "# 이진화 => 임계값 함수 => otsu를 쓰니 알아서 하라고 0을 줌.\n",
    "threshold_value, src_bin = cv2.threshold(src_gray, 0, 255, cv2.THRESH_BINARY | cv2.THRESH_OTSU)\n",
    "print(threshold_value)"
   ]
  },
  {
   "cell_type": "code",
   "execution_count": 24,
   "metadata": {},
   "outputs": [],
   "source": [
    "_, src_bin = cv2.threshold(src_gray, 108, 255, cv2.THRESH_BINARY)\n",
    "cv2.imshow('src',src)\n",
    "cv2.imshow('src_gray',src_gray)\n",
    "cv2.imshow('src_bin',src_bin)\n",
    "cv2.waitKey()\n",
    "cv2.destroyAllWindows()"
   ]
  },
  {
   "cell_type": "code",
   "execution_count": null,
   "metadata": {},
   "outputs": [],
   "source": []
  }
 ],
 "metadata": {
  "kernelspec": {
   "display_name": "tensorflow_py37",
   "language": "python",
   "name": "tensorflow_py37"
  },
  "language_info": {
   "codemirror_mode": {
    "name": "ipython",
    "version": 3
   },
   "file_extension": ".py",
   "mimetype": "text/x-python",
   "name": "python",
   "nbconvert_exporter": "python",
   "pygments_lexer": "ipython3",
   "version": "3.7.9"
  }
 },
 "nbformat": 4,
 "nbformat_minor": 4
}
