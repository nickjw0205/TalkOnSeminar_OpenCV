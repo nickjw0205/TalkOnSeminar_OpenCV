{
 "cells": [
  {
   "cell_type": "code",
   "execution_count": 26,
   "metadata": {},
   "outputs": [],
   "source": [
    "import sys\n",
    "import numpy as np\n",
    "import cv2"
   ]
  },
  {
   "cell_type": "code",
   "execution_count": 33,
   "metadata": {},
   "outputs": [],
   "source": [
    "img = cv2.imread('beagle.jpg')\n",
    "\n",
    "if img is None:\n",
    "    print('Image load failed!')\n",
    "    exit()"
   ]
  },
  {
   "cell_type": "code",
   "execution_count": 34,
   "metadata": {},
   "outputs": [],
   "source": [
    "# Load network\n",
    "\n",
    "net = cv2.dnn.readNet('bvlc_googlenet.caffemodel', 'deploy.prototxt')\n",
    "\n",
    "if net.empty():\n",
    "    print('Network load failed!')\n",
    "    exit()"
   ]
  },
  {
   "cell_type": "code",
   "execution_count": 35,
   "metadata": {},
   "outputs": [],
   "source": [
    "# Load class names\n",
    "\n",
    "classNames = None\n",
    "with open('classification_classes_ILSVRC2012.txt', 'rt') as f:\n",
    "    classNames = f.read().rstrip('\\n').split('\\n')"
   ]
  },
  {
   "cell_type": "code",
   "execution_count": 36,
   "metadata": {},
   "outputs": [],
   "source": [
    "# Inference\n",
    "\n",
    "inputBlob = cv2.dnn.blobFromImage(img, 1, (224, 224), (104, 117, 123))\n",
    "net.setInput(inputBlob, 'data')\n",
    "prob = net.forward()"
   ]
  },
  {
   "cell_type": "code",
   "execution_count": 37,
   "metadata": {},
   "outputs": [
    {
     "data": {
      "text/plain": [
       "array([[[  1,   1,   1],\n",
       "        [  1,   1,   1],\n",
       "        [  1,   1,   1],\n",
       "        ...,\n",
       "        [ 66,  51,  35],\n",
       "        [ 66,  51,  35],\n",
       "        [ 65,  50,  34]],\n",
       "\n",
       "       [[  1,   1,   1],\n",
       "        [  1,   1,   1],\n",
       "        [  1,   1,   1],\n",
       "        ...,\n",
       "        [ 71,  55,  38],\n",
       "        [ 73,  55,  38],\n",
       "        [ 70,  54,  37]],\n",
       "\n",
       "       [[  1,   1,   1],\n",
       "        [  1,   1,   1],\n",
       "        [  1,   1,   1],\n",
       "        ...,\n",
       "        [ 83,  62,  40],\n",
       "        [ 85,  62,  40],\n",
       "        [ 82,  61,  39]],\n",
       "\n",
       "       ...,\n",
       "\n",
       "       [[ 29,  26,  35],\n",
       "        [ 22,  21,  25],\n",
       "        [ 41,  39,  38],\n",
       "        ...,\n",
       "        [ 52,  61,  70],\n",
       "        [ 73,  88,  97],\n",
       "        [ 88, 104, 116]],\n",
       "\n",
       "       [[ 26,  26,  32],\n",
       "        [ 30,  29,  31],\n",
       "        [ 68,  68,  62],\n",
       "        ...,\n",
       "        [ 52,  61,  71],\n",
       "        [ 71,  84,  98],\n",
       "        [ 82,  97, 113]],\n",
       "\n",
       "       [[ 30,  31,  35],\n",
       "        [ 47,  49,  49],\n",
       "        [ 93,  93,  87],\n",
       "        ...,\n",
       "        [ 49,  58,  68],\n",
       "        [ 68,  81,  97],\n",
       "        [ 80,  94, 112]]], dtype=uint8)"
      ]
     },
     "execution_count": 37,
     "metadata": {},
     "output_type": "execute_result"
    }
   ],
   "source": [
    "# Check results & Display\n",
    "\n",
    "out = prob.flatten()\n",
    "classId = np.argmax(out)\n",
    "confidence = out[classId]\n",
    "\n",
    "text = '%s (%4.2f%%)' % (classNames[classId], confidence * 100)\n",
    "cv2.putText(img, text, (10, 30), cv2.FONT_HERSHEY_SIMPLEX, 0.8, (0, 0, 255), 1, cv2.LINE_AA)"
   ]
  },
  {
   "cell_type": "code",
   "execution_count": null,
   "metadata": {},
   "outputs": [],
   "source": [
    "cv2.imshow('img', img)\n",
    "cv2.waitKey()\n",
    "cv2.destroyAllWindows()"
   ]
  },
  {
   "cell_type": "code",
   "execution_count": null,
   "metadata": {},
   "outputs": [],
   "source": []
  }
 ],
 "metadata": {
  "kernelspec": {
   "display_name": "tensorflow_py37",
   "language": "python",
   "name": "tensorflow_py37"
  },
  "language_info": {
   "codemirror_mode": {
    "name": "ipython",
    "version": 3
   },
   "file_extension": ".py",
   "mimetype": "text/x-python",
   "name": "python",
   "nbconvert_exporter": "python",
   "pygments_lexer": "ipython3",
   "version": "3.7.9"
  }
 },
 "nbformat": 4,
 "nbformat_minor": 4
}
