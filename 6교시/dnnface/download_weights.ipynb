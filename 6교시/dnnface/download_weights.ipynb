{
 "cells": [
  {
   "cell_type": "code",
   "execution_count": 1,
   "metadata": {},
   "outputs": [],
   "source": [
    "#!/usr/bin/env python\n",
    "\n",
    "from __future__ import print_function\n",
    "import hashlib\n",
    "import time\n",
    "import sys\n",
    "import xml.etree.ElementTree as ET\n",
    "if sys.version_info[0] < 3:\n",
    "    from urllib2 import urlopen\n",
    "else:\n",
    "    from urllib.request import urlopen"
   ]
  },
  {
   "cell_type": "code",
   "execution_count": 2,
   "metadata": {},
   "outputs": [],
   "source": [
    "class HashMismatchException(Exception):\n",
    "    def __init__(self, expected, actual):\n",
    "        Exception.__init__(self)\n",
    "        self.expected = expected\n",
    "        self.actual = actual\n",
    "    def __str__(self):\n",
    "        return 'Hash mismatch: {} vs {}'.format(self.expected, self.actual)"
   ]
  },
  {
   "cell_type": "code",
   "execution_count": 3,
   "metadata": {},
   "outputs": [],
   "source": [
    "class MetalinkDownloader(object):\n",
    "    BUFSIZE = 10*1024*1024\n",
    "    NS = {'ml': 'urn:ietf:params:xml:ns:metalink'}\n",
    "    tick = 0\n",
    "\n",
    "    def download(self, metalink_file):\n",
    "        status = True\n",
    "        for file_elem in ET.parse(metalink_file).getroot().findall('ml:file', self.NS):\n",
    "            url = file_elem.find('ml:url', self.NS).text\n",
    "            fname = file_elem.attrib['name']\n",
    "            hash_sum = file_elem.find('ml:hash', self.NS).text\n",
    "            print('*** {}'.format(fname))\n",
    "            try:\n",
    "                self.verify(hash_sum, fname)\n",
    "            except Exception as ex:\n",
    "                print('  {}'.format(ex))\n",
    "                try:\n",
    "                    print('  {}'.format(url))\n",
    "                    with open(fname, 'wb') as file_stream:\n",
    "                        self.buffered_read(urlopen(url), file_stream.write)\n",
    "                    self.verify(hash_sum, fname)\n",
    "                except Exception as ex:\n",
    "                    print('  {}'.format(ex))\n",
    "                    print('  FAILURE')\n",
    "                    status = False\n",
    "                    continue\n",
    "            print('  SUCCESS')\n",
    "        return status\n",
    "\n",
    "    def print_progress(self, msg, timeout = 0):\n",
    "        if time.time() - self.tick > timeout:\n",
    "            print(msg, end='')\n",
    "            sys.stdout.flush()\n",
    "            self.tick = time.time()\n",
    "\n",
    "    def buffered_read(self, in_stream, processing):\n",
    "        self.print_progress('  >')\n",
    "        while True:\n",
    "            buf = in_stream.read(self.BUFSIZE)\n",
    "            if not buf:\n",
    "                break\n",
    "            processing(buf)\n",
    "            self.print_progress('>', 5)\n",
    "        print(' done')\n",
    "\n",
    "    def verify(self, hash_sum, fname):\n",
    "        sha = hashlib.sha1()\n",
    "        with open(fname, 'rb') as file_stream:\n",
    "            self.buffered_read(file_stream, sha.update)\n",
    "        if hash_sum != sha.hexdigest():\n",
    "            raise HashMismatchException(hash_sum, sha.hexdigest())\n"
   ]
  },
  {
   "cell_type": "code",
   "execution_count": 4,
   "metadata": {},
   "outputs": [
    {
     "name": "stdout",
     "output_type": "stream",
     "text": [
      "*** res10_300x300_ssd_iter_140000_fp16.caffemodel\n",
      "  > done\n",
      "  SUCCESS\n",
      "*** opencv_face_detector_uint8.pb\n",
      "  > done\n",
      "  SUCCESS\n"
     ]
    },
    {
     "ename": "SystemExit",
     "evalue": "0",
     "output_type": "error",
     "traceback": [
      "An exception has occurred, use %tb to see the full traceback.\n",
      "\u001b[1;31mSystemExit\u001b[0m\u001b[1;31m:\u001b[0m 0\n"
     ]
    },
    {
     "name": "stderr",
     "output_type": "stream",
     "text": [
      "C:\\Users\\USER\\anaconda3\\envs\\tensorflow_py37\\lib\\site-packages\\IPython\\core\\interactiveshell.py:2886: UserWarning: To exit: use 'exit', 'quit', or Ctrl-D.\n",
      "  warn(\"To exit: use 'exit', 'quit', or Ctrl-D.\", stacklevel=1)\n"
     ]
    }
   ],
   "source": [
    "if __name__ == '__main__':\n",
    "    sys.exit(0 if MetalinkDownloader().download('weights.meta4') else 1)\n"
   ]
  },
  {
   "cell_type": "code",
   "execution_count": 5,
   "metadata": {},
   "outputs": [
    {
     "ename": "SystemExit",
     "evalue": "0",
     "output_type": "error",
     "traceback": [
      "\u001b[1;31m---------------------------------------------------------------------------\u001b[0m",
      "\u001b[1;31mSystemExit\u001b[0m                                Traceback (most recent call last)",
      "\u001b[1;32m<ipython-input-4-952d2c39c01a>\u001b[0m in \u001b[0;36m<module>\u001b[1;34m()\u001b[0m\n\u001b[0;32m      1\u001b[0m \u001b[1;32mif\u001b[0m \u001b[0m__name__\u001b[0m \u001b[1;33m==\u001b[0m \u001b[1;34m'__main__'\u001b[0m\u001b[1;33m:\u001b[0m\u001b[1;33m\u001b[0m\u001b[1;33m\u001b[0m\u001b[0m\n\u001b[1;32m----> 2\u001b[1;33m     \u001b[0msys\u001b[0m\u001b[1;33m.\u001b[0m\u001b[0mexit\u001b[0m\u001b[1;33m(\u001b[0m\u001b[1;36m0\u001b[0m \u001b[1;32mif\u001b[0m \u001b[0mMetalinkDownloader\u001b[0m\u001b[1;33m(\u001b[0m\u001b[1;33m)\u001b[0m\u001b[1;33m.\u001b[0m\u001b[0mdownload\u001b[0m\u001b[1;33m(\u001b[0m\u001b[1;34m'weights.meta4'\u001b[0m\u001b[1;33m)\u001b[0m \u001b[1;32melse\u001b[0m \u001b[1;36m1\u001b[0m\u001b[1;33m)\u001b[0m\u001b[1;33m\u001b[0m\u001b[1;33m\u001b[0m\u001b[0m\n\u001b[0m",
      "\u001b[1;31mSystemExit\u001b[0m: 0"
     ]
    }
   ],
   "source": [
    "%tb"
   ]
  },
  {
   "cell_type": "code",
   "execution_count": null,
   "metadata": {},
   "outputs": [],
   "source": []
  }
 ],
 "metadata": {
  "kernelspec": {
   "display_name": "tensorflow_py37",
   "language": "python",
   "name": "tensorflow_py37"
  },
  "language_info": {
   "codemirror_mode": {
    "name": "ipython",
    "version": 3
   },
   "file_extension": ".py",
   "mimetype": "text/x-python",
   "name": "python",
   "nbconvert_exporter": "python",
   "pygments_lexer": "ipython3",
   "version": "3.7.9"
  }
 },
 "nbformat": 4,
 "nbformat_minor": 4
}
