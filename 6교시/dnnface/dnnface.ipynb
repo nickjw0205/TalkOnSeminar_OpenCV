{
 "cells": [
  {
   "cell_type": "code",
   "execution_count": 2,
   "metadata": {},
   "outputs": [],
   "source": [
    "import cv2"
   ]
  },
  {
   "cell_type": "code",
   "execution_count": 3,
   "metadata": {},
   "outputs": [],
   "source": [
    "model = 'res10_300x300_ssd_iter_140000_fp16.caffemodel'\n",
    "config = 'deploy.prototxt'\n",
    "#model = 'opencv_face_detector_uint8.pb'\n",
    "#config = 'opencv_face_detector.pbtxt'\n",
    "\n",
    "cap = cv2.VideoCapture(0)\n",
    "\n",
    "if not cap.isOpened():\n",
    "    print('Camera open failed!')\n",
    "    exit()"
   ]
  },
  {
   "cell_type": "code",
   "execution_count": 4,
   "metadata": {},
   "outputs": [],
   "source": [
    "net = cv2.dnn.readNet(model, config)\n",
    "\n",
    "if net.empty():\n",
    "    print('Net open failed!')\n",
    "    exit()\n"
   ]
  },
  {
   "cell_type": "code",
   "execution_count": 13,
   "metadata": {},
   "outputs": [],
   "source": [
    "# while True:\n",
    "# _, frame = cap.read()\n",
    "# if frame is None:\n",
    "#     break\n",
    "\n",
    "frame = cv2.imread('mask_helmet2.jpg')\n",
    "\n",
    "if frame is None:\n",
    "    print('Image load failed!')\n",
    "    exit()\n",
    "\n",
    "blob = cv2.dnn.blobFromImage(frame, 1, (300, 300), (104, 177, 123))\n",
    "net.setInput(blob)\n",
    "detect = net.forward()\n",
    "\n",
    "detect = detect[0, 0, :, :]\n",
    "(h, w) = frame.shape[:2]\n",
    "\n",
    "for i in range(detect.shape[0]):\n",
    "    confidence = detect[i, 2]\n",
    "    if confidence < 0.5:\n",
    "        break\n",
    "\n",
    "    x1 = int(detect[i, 3] * w)\n",
    "    y1 = int(detect[i, 4] * h)\n",
    "    x2 = int(detect[i, 5] * w)\n",
    "    y2 = int(detect[i, 6] * h)\n",
    "\n",
    "    cv2.rectangle(frame, (x1, y1), (x2, y2), (0, 255, 0))\n",
    "\n",
    "    label = 'Face: %4.3f' % confidence\n",
    "    cv2.putText(frame, label, (x1, y1 - 1), cv2.FONT_HERSHEY_SIMPLEX, 0.8, (0, 255, 0), 1, cv2.LINE_AA)\n",
    "\n"
   ]
  },
  {
   "cell_type": "code",
   "execution_count": 14,
   "metadata": {},
   "outputs": [],
   "source": [
    "cv2.imshow('frame', frame)\n",
    "cv2.waitKey()\n",
    "cv2.destroyAllWindows()"
   ]
  },
  {
   "cell_type": "code",
   "execution_count": null,
   "metadata": {},
   "outputs": [],
   "source": []
  }
 ],
 "metadata": {
  "kernelspec": {
   "display_name": "tensorflow_py37",
   "language": "python",
   "name": "tensorflow_py37"
  },
  "language_info": {
   "codemirror_mode": {
    "name": "ipython",
    "version": 3
   },
   "file_extension": ".py",
   "mimetype": "text/x-python",
   "name": "python",
   "nbconvert_exporter": "python",
   "pygments_lexer": "ipython3",
   "version": "3.7.9"
  }
 },
 "nbformat": 4,
 "nbformat_minor": 4
}
